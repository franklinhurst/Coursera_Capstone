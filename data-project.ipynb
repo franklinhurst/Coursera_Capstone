{
    "cells": [
        {
            "cell_type": "markdown",
            "metadata": {},
            "source": "## Data: How will data be used to solve the problem?"
        },
        {
            "cell_type": "markdown",
            "metadata": {},
            "source": "### Data:\n**Dallas is a very large and dispersed metropolitan area as opposed to cities like Toronto and New York City.  Also, the Dallas metropolitan area is surrounded by some rural areas that are also generally considered to be part of the larger Dallas area.  Therefore, for this study we will use zipcode data instead of neighborhood data, which tends to be much more heterogeneous in Dallas than it is in other metropolitan areas.  The data was obtained at:\nhttps://namecensus.com/igapo/zip_codes/metropolitan-areas/metro-alpha/Dallas-Fort%20Worth%20(TX)1.html**\n\n### Methodology:\n\n**The data was downloaded, cleaned, and put into a dataframe.  Thus We began with a dataframe of zipcodes and the city names/locations associated with those zip codes.  Not every location was a city name: some were non-city locations.  We then add the coordinates of these zipcodes using python's geocoder.  We examined the compiled data using a folium map to verify reasonable uniformity of spread.  We add to this data from Foursquare about the most common venues within 1,000 meters of each zip code coordinate.  After several data transformations, we end up with the 10 most common venues in each zip code.  We use one-hot encoding and averaging to create multiple features from the categorical feature 'venue category'.  Lastly we use K-means clustering to find 5 clusters of zip codes based on the similarity of the zip code's data in hyperspace.  The number of centroids k = 5 was chosen after many trials since it yielded the most information relative to the business problem.  We then examine the qualities of each cluster to make a conclusion on where and where not to open a Mexican restaurant.  Please note this is just an executive summary, so many steps have been summarized and condensed.**\n\n### Results\n**Of the 5 clusters generated, we isolated one cluster that is saturated with Mexican restaurants as as either the most common venue category, or one of the top 4 most common venue categories.**\n\n###  Discussion:\n\n**We observe that if one is to open a Mexican restaurant in Dallas County, they should probably avoid opening it in Cluster 2 (the details of Cluster 2 are described in the report).**\n\n---"
        },
        {
            "cell_type": "code",
            "execution_count": 3,
            "metadata": {},
            "outputs": [
                {
                    "data": {
                        "text/plain": "'C:\\\\Users\\\\Franklin'"
                    },
                    "execution_count": 3,
                    "metadata": {},
                    "output_type": "execute_result"
                }
            ],
            "source": "pwd"
        },
        {
            "cell_type": "code",
            "execution_count": null,
            "metadata": {},
            "outputs": [],
            "source": ""
        }
    ],
    "metadata": {
        "kernelspec": {
            "display_name": "Python 3.7",
            "language": "python",
            "name": "python3"
        },
        "language_info": {
            "codemirror_mode": {
                "name": "ipython",
                "version": 3
            },
            "file_extension": ".py",
            "mimetype": "text/x-python",
            "name": "python",
            "nbconvert_exporter": "python",
            "pygments_lexer": "ipython3",
            "version": "3.7.9"
        }
    },
    "nbformat": 4,
    "nbformat_minor": 4
}