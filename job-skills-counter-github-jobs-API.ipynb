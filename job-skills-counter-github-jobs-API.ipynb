{
    "cells": [
        {
            "cell_type": "markdown",
            "metadata": {
                "collapsed": true
            },
            "source": "### Github jobs skills counter\n\nThis notebook counts the number of jobs in which certain skills are mentioned using the github jobs API. \n\n- Edit the python list techs to add to the jobs counted.  \n- Job skills are not mutually exclusive, so for example the job skill \"C++\" will also count the number of jobs in which \"C\" is mentioned. \n- The counter is text-based, so in order to count jobs in which \"C\" occurs not as a part of another word, include \" C \" in the list and not \"C\".  For example, the latter would count jobs contain the sentence. \"Content writing experience required.\" since it contains \"C\".  Using \" C \" as a job skill would avoid this.  \n- The counter counts the number of job listings and not the number of total mentions within all job listings.\n- The counter may count one job listing twice.  For example, if a job description contains both \"C++\" and \"Python\", then one job would be counted under both categories.\n- The counter is case sensitive"
        },
        {
            "cell_type": "code",
            "execution_count": 12,
            "metadata": {},
            "outputs": [
                {
                    "data": {
                        "text/plain": "['AWS',\n 'Access',\n 'Advanced Excel',\n 'Agile',\n 'Azure',\n 'Basel',\n 'BigQuery',\n 'C ',\n 'C%23',\n 'C++',\n 'CRM',\n 'Confluence',\n 'DB2',\n 'DRY',\n 'Dax',\n 'DevOps',\n 'ETL',\n 'Epic EMR',\n 'Excel',\n 'FOCUS',\n 'GCP',\n 'Git',\n 'Glue',\n 'HDFS',\n 'Hadoop',\n 'Hive',\n 'Hyperion',\n 'IDMS',\n 'Ignition',\n 'Java',\n 'JavaScript',\n 'Jira',\n 'Jump',\n 'KISS',\n 'KPI Reporting',\n 'Linux',\n 'MongoDB',\n 'MySQL Server',\n 'OBIEE',\n 'OOP',\n 'Oracle',\n 'POS Data',\n 'Pig',\n 'PostgreSQL',\n 'Power BI',\n 'Power Query',\n 'PowerPoint',\n 'PowerPoint2',\n 'Python',\n 'Qlikview',\n 'R ',\n 'REST API',\n 'Redshift',\n 'SAP',\n 'SAS',\n 'SCADA',\n 'SQL',\n 'SQL Server',\n 'Salesforce',\n 'Scala',\n 'Scrum',\n 'Shiny',\n 'Smartsheet',\n 'Subversion',\n 'Tableau',\n 'Unix',\n 'VBA',\n 'Workday',\n 'XML',\n 'birst',\n 'data analytics',\n 'data architecture',\n 'data mining',\n 'data visualization',\n 'full stack',\n 'lambda',\n 'looker',\n 'noSQL',\n 'relational database']"
                    },
                    "execution_count": 12,
                    "metadata": {},
                    "output_type": "execute_result"
                }
            ],
            "source": "# edit this list to change the skills searched for\n\ntechs = ['C ', 'C%23', 'C++', 'Java', 'JavaScript', 'Python', 'Scala', 'Oracle', 'SQL Server', \\\n         'MySQL Server', 'PostgreSQL', 'MongoDB', 'Access', 'Advanced Excel', 'Excel', 'Agile', 'Scrum', \\\n        'AWS', 'Azure', 'DevOps', 'Basel', 'BigQuery', 'birst', 'data mining', 'Confluence', 'CRM', \\\n         'data analytics', 'data architecture', 'data visualization', 'Dax', 'DB2', 'DRY', 'Epic EMR', \\\n        'ETL', 'FOCUS', 'full stack', 'GCP', 'Git', 'Glue', 'Hadoop', 'HDFS', 'Hive', 'Hyperion', \\\n        'IDMS', 'Ignition', 'Jira', 'Jump', 'KISS', 'KPI Reporting', 'lambda', 'Linux', 'looker', \\\n        'noSQL', 'OOP', 'OBIEE', 'Pig', 'POS Data', 'Power BI', 'Power Query', 'PowerPoint', \\\n         'PowerPoint2', 'Qlikview', 'R ', 'Redshift', 'relational database', 'REST API', 'Salesforce', \\\n        'SAP', 'SAS', 'SCADA', 'Shiny', 'Smartsheet', 'SQL', 'Subversion', 'Tableau', 'Unix', 'VBA', \\\n        'Workday', 'XML']\ntechs = sorted(techs)\ntechs"
        },
        {
            "cell_type": "code",
            "execution_count": 13,
            "metadata": {},
            "outputs": [],
            "source": "import requests"
        },
        {
            "cell_type": "code",
            "execution_count": 14,
            "metadata": {},
            "outputs": [],
            "source": "baseurl = \"https://jobs.github.com/positions.json\""
        },
        {
            "cell_type": "code",
            "execution_count": 15,
            "metadata": {},
            "outputs": [],
            "source": "def get_number_of_jobs(technology, baseurl):\n    number_of_jobs = 0\n    pg = 1\n    counter = 50\n    while(counter == 50):\n        url = baseurl + \"?description=\" + technology + \"&page=\" + str(pg)\n        response2 = requests.get( url )\n        jobsdata = response2.json()\n        counter = len(jobsdata)\n        for job in jobsdata:\n            number_of_jobs += 1\n        pg += 1\n    if technology == 'C%23':\n        technology = 'C#'\n    return technology,number_of_jobs"
        },
        {
            "cell_type": "code",
            "execution_count": null,
            "metadata": {},
            "outputs": [],
            "source": ""
        }
    ],
    "metadata": {
        "kernelspec": {
            "display_name": "Python 3.7",
            "language": "python",
            "name": "python3"
        },
        "language_info": {
            "codemirror_mode": {
                "name": "ipython",
                "version": 3
            },
            "file_extension": ".py",
            "mimetype": "text/x-python",
            "name": "python",
            "nbconvert_exporter": "python",
            "pygments_lexer": "ipython3",
            "version": "3.7.10"
        }
    },
    "nbformat": 4,
    "nbformat_minor": 1
}