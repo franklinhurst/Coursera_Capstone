{
    "cells": [
        {
            "cell_type": "markdown",
            "metadata": {},
            "source": "<center>\n    <img src=\"https://gitlab.com/ibm/skills-network/courses/placeholder101/-/raw/master/labs/module%201/images/IDSNlogo.png\" width=\"300\" alt=\"cognitiveclass.ai logo\"  />\n</center>\n"
        },
        {
            "cell_type": "markdown",
            "metadata": {},
            "source": "# **Hands-on Lab : Web Scraping**\n"
        },
        {
            "cell_type": "markdown",
            "metadata": {},
            "source": "Estimated time needed: **30 to 45** minutes\n"
        },
        {
            "cell_type": "markdown",
            "metadata": {},
            "source": "## Objectives\n"
        },
        {
            "cell_type": "markdown",
            "metadata": {},
            "source": "In this lab you will perform the following:\n"
        },
        {
            "cell_type": "markdown",
            "metadata": {},
            "source": "-   Extract information from a given web site \n-   Write the scraped data into a csv file.\n"
        },
        {
            "cell_type": "markdown",
            "metadata": {},
            "source": "## Extract information from the given web site\n\nYou will extract the data from the below web site: <br> \n"
        },
        {
            "cell_type": "code",
            "execution_count": 1,
            "metadata": {},
            "outputs": [],
            "source": "#this url contains the data you need to scrape\nurl = \"https://cf-courses-data.s3.us.cloud-object-storage.appdomain.cloud/IBM-DA0321EN-SkillsNetwork/labs/datasets/Programming_Languages.html\""
        },
        {
            "cell_type": "markdown",
            "metadata": {},
            "source": "The data you need to scrape is the **name of the programming language** and **average annual salary**.<br> It is a good idea to open the url in your web broswer and study the contents of the web page before you start to scrape.\n"
        },
        {
            "cell_type": "markdown",
            "metadata": {},
            "source": "Import the required libraries\n"
        },
        {
            "cell_type": "code",
            "execution_count": 2,
            "metadata": {},
            "outputs": [],
            "source": "from bs4 import BeautifulSoup\nimport requests\nimport csv\nimport pandas as pd"
        },
        {
            "cell_type": "markdown",
            "metadata": {},
            "source": "Download the webpage at the url\n"
        },
        {
            "cell_type": "code",
            "execution_count": 3,
            "metadata": {},
            "outputs": [],
            "source": "web_data = requests.get(url).text"
        },
        {
            "cell_type": "markdown",
            "metadata": {},
            "source": "Create a soup object\n"
        },
        {
            "cell_type": "code",
            "execution_count": 4,
            "metadata": {},
            "outputs": [
                {
                    "data": {
                        "text/plain": "<!DOCTYPE html>\n<html lang=\"en\"><head>\n<title>\nSalary survey results of programming languages\n</title>\n<style>\ntable, th, td {\n  border: 1px solid black;\n}\n</style>\n</head>\n\n<body>\n<hr/>\n<h2>Popular Programming Languages</h2>\n<hr/>\n<p>Finding out which is the best language is a tough task. A programming language is created to solve a specific problem. A language which is good for task A may not be able to properly handle task B. Comparing programming language is never easy. What we can do, however, is find which is popular in the industry.</p>\n<p>There are many ways to find the popularity of a programming languages. Counting the number of google searchs for each language is a simple way to find the popularity. GitHub and StackOverflow also can give some good pointers.</p>\n<p>Salary surveys are a way to find out the programmings languages that are most in demand in the industry. Below table is the result of one such survey. When using any survey keep in mind that the results vary year on year.</p>\n<hr/>\n<table>\n<tbody>\n<tr>\n<td>No.</td>\n<td>Language</td>\n<td>Created By</td>\n<td>Average Annual Salary</td>\n<td>Learning Difficulty</td>\n</tr>\n<tr>\n<td>1</td>\n<td>Python</td>\n<td>Guido van Rossum</td>\n<td>$114,383</td>\n<td>Easy</td>\n</tr>\n<tr>\n<td>2</td>\n<td>Java</td>\n<td>James Gosling</td>\n<td>$101,013</td>\n<td>Easy</td>\n</tr>\n<tr>\n<td>3</td>\n<td>R</td>\n<td>Robert Gentleman, Ross Ihaka</td>\n<td>$92,037</td>\n<td>Hard</td>\n</tr>\n<tr>\n<td>4</td>\n<td>Javascript</td>\n<td>Netscape</td>\n<td>$110,981</td>\n<td>Easy</td>\n</tr>\n<tr>\n<td>5</td>\n<td>Swift</td>\n<td>Apple</td>\n<td>$130,801</td>\n<td>Easy</td>\n</tr>\n<tr>\n<td>6</td>\n<td>C++</td>\n<td>Bjarne Stroustrup</td>\n<td>$113,865</td>\n<td>Hard</td>\n</tr>\n<tr>\n<td>7</td>\n<td>C#</td>\n<td>Microsoft</td>\n<td>$88,726</td>\n<td>Hard</td>\n</tr>\n<tr>\n<td>8</td>\n<td>PHP</td>\n<td>Rasmus Lerdorf</td>\n<td>$84,727</td>\n<td>Easy</td>\n</tr>\n<tr>\n<td>9</td>\n<td>SQL</td>\n<td>Donald D. Chamberlin, Raymond F. Boyce.</td>\n<td>$84,793</td>\n<td>Easy</td>\n</tr>\n<tr>\n<td>10</td>\n<td>Go</td>\n<td>Robert Griesemer, Ken Thompson, Rob Pike.</td>\n<td>$94,082</td>\n<td>Difficult</td>\n</tr>\n</tbody>\n</table>\n<hr/>\n\n</body></html>"
                    },
                    "execution_count": 4,
                    "metadata": {},
                    "output_type": "execute_result"
                }
            ],
            "source": "salary_soup = BeautifulSoup(web_data, \"html5lib\")\nsalary_soup"
        },
        {
            "cell_type": "markdown",
            "metadata": {},
            "source": "Scrape the `Language name` and `annual average salary`.\n"
        },
        {
            "cell_type": "code",
            "execution_count": 5,
            "metadata": {},
            "outputs": [
                {
                    "name": "stdout",
                    "output_type": "stream",
                    "text": "<table>\n<tbody>\n<tr>\n<td>No.</td>\n<td>Language</td>\n<td>Created By</td>\n<td>Average Annual Salary</td>\n<td>Learning Difficulty</td>\n</tr>\n<tr>\n<td>1</td>\n<td>Python</td>\n<td>Guido van Rossum</td>\n<td>$114,383</td>\n<td>Easy</td>\n</tr>\n<tr>\n<td>2</td>\n<td>Java</td>\n<td>James Gosling</td>\n<td>$101,013</td>\n<td>Easy</td>\n</tr>\n<tr>\n<td>3</td>\n<td>R</td>\n<td>Robert Gentleman, Ross Ihaka</td>\n<td>$92,037</td>\n<td>Hard</td>\n</tr>\n<tr>\n<td>4</td>\n<td>Javascript</td>\n<td>Netscape</td>\n<td>$110,981</td>\n<td>Easy</td>\n</tr>\n<tr>\n<td>5</td>\n<td>Swift</td>\n<td>Apple</td>\n<td>$130,801</td>\n<td>Easy</td>\n</tr>\n<tr>\n<td>6</td>\n<td>C++</td>\n<td>Bjarne Stroustrup</td>\n<td>$113,865</td>\n<td>Hard</td>\n</tr>\n<tr>\n<td>7</td>\n<td>C#</td>\n<td>Microsoft</td>\n<td>$88,726</td>\n<td>Hard</td>\n</tr>\n<tr>\n<td>8</td>\n<td>PHP</td>\n<td>Rasmus Lerdorf</td>\n<td>$84,727</td>\n<td>Easy</td>\n</tr>\n<tr>\n<td>9</td>\n<td>SQL</td>\n<td>Donald D. Chamberlin, Raymond F. Boyce.</td>\n<td>$84,793</td>\n<td>Easy</td>\n</tr>\n<tr>\n<td>10</td>\n<td>Go</td>\n<td>Robert Griesemer, Ken Thompson, Rob Pike.</td>\n<td>$94,082</td>\n<td>Difficult</td>\n</tr>\n</tbody>\n</table>\n"
                }
            ],
            "source": "table = salary_soup.find('table')\nprint(table)"
        },
        {
            "cell_type": "code",
            "execution_count": 6,
            "metadata": {},
            "outputs": [
                {
                    "name": "stdout",
                    "output_type": "stream",
                    "text": "['Language', 'Average Annual Salary']\n['Python', '$114,383']\n['Java', '$101,013']\n['R', '$92,037']\n['Javascript', '$110,981']\n['Swift', '$130,801']\n['C++', '$113,865']\n['C#', '$88,726']\n['PHP', '$84,727']\n['SQL', '$84,793']\n['Go', '$94,082']\n"
                },
                {
                    "data": {
                        "text/html": "<div>\n<style scoped>\n    .dataframe tbody tr th:only-of-type {\n        vertical-align: middle;\n    }\n\n    .dataframe tbody tr th {\n        vertical-align: top;\n    }\n\n    .dataframe thead th {\n        text-align: right;\n    }\n</style>\n<table border=\"1\" class=\"dataframe\">\n  <thead>\n    <tr style=\"text-align: right;\">\n      <th></th>\n    </tr>\n  </thead>\n  <tbody>\n  </tbody>\n</table>\n</div>",
                        "text/plain": "Empty DataFrame\nColumns: []\nIndex: []"
                    },
                    "execution_count": 6,
                    "metadata": {},
                    "output_type": "execute_result"
                }
            ],
            "source": "df = pd.DataFrame()\ni = 0\nfor row in table.find_all('tr'):\n    cols = row.find_all('td')\n    prog_lang = cols[1].getText()\n    salary = cols[3].getText()\n    df_row = [prog_lang, salary]\n    print(df_row)\n    df.append(df_row)\n    i =+ 1\n\ndf"
        },
        {
            "cell_type": "markdown",
            "metadata": {},
            "source": "Save the scrapped data into a file named _popular-languages.csv_\n"
        },
        {
            "cell_type": "code",
            "execution_count": 7,
            "metadata": {},
            "outputs": [],
            "source": "df.to_csv('popular-languages.csv')  # something more would be needed to save the df to IBM object store"
        },
        {
            "cell_type": "code",
            "execution_count": 8,
            "metadata": {},
            "outputs": [
                {
                    "name": "stdout",
                    "output_type": "stream",
                    "text": "/home/wsuser/work/popular-languages.csv\n"
                }
            ],
            "source": "import os\nprint (os.path.abspath(\"popular-languages.csv\"))"
        },
        {
            "cell_type": "markdown",
            "metadata": {},
            "source": "## Authors\n"
        },
        {
            "cell_type": "markdown",
            "metadata": {},
            "source": "Ramesh Sannareddy\n"
        },
        {
            "cell_type": "markdown",
            "metadata": {},
            "source": "### Other Contributors\n"
        },
        {
            "cell_type": "markdown",
            "metadata": {},
            "source": "Rav Ahuja\n"
        },
        {
            "cell_type": "markdown",
            "metadata": {},
            "source": "## Change Log\n"
        },
        {
            "cell_type": "markdown",
            "metadata": {},
            "source": "| Date (YYYY-MM-DD) | Version | Changed By        | Change Description                 |\n| ----------------- | ------- | ----------------- | ---------------------------------- |\n| 2020-10-17        | 0.1     | Ramesh Sannareddy | Created initial version of the lab |\n"
        },
        {
            "cell_type": "markdown",
            "metadata": {},
            "source": " Copyright \u00a9 2020 IBM Corporation. This notebook and its source code are released under the terms of the [MIT License](https://cognitiveclass.ai/mit-license?cm_mmc=Email_Newsletter-_-Developer_Ed%2BTech-_-WW_WW-_-SkillsNetwork-Courses-IBM-DA0321EN-SkillsNetwork-21426264&cm_mmca1=000026UJ&cm_mmca2=10006555&cm_mmca3=M12345678&cvosrc=email.Newsletter.M12345678&cvo_campaign=000026UJ&cm_mmc=Email_Newsletter-_-Developer_Ed%2BTech-_-WW_WW-_-SkillsNetwork-Courses-IBM-DA0321EN-SkillsNetwork-21426264&cm_mmca1=000026UJ&cm_mmca2=10006555&cm_mmca3=M12345678&cvosrc=email.Newsletter.M12345678&cvo_campaign=000026UJ&cm_mmc=Email_Newsletter-_-Developer_Ed%2BTech-_-WW_WW-_-SkillsNetwork-Courses-IBM-DA0321EN-SkillsNetwork-21426264&cm_mmca1=000026UJ&cm_mmca2=10006555&cm_mmca3=M12345678&cvosrc=email.Newsletter.M12345678&cvo_campaign=000026UJ&cm_mmc=Email_Newsletter-_-Developer_Ed%2BTech-_-WW_WW-_-SkillsNetwork-Courses-IBM-DA0321EN-SkillsNetwork-21426264&cm_mmca1=000026UJ&cm_mmca2=10006555&cm_mmca3=M12345678&cvosrc=email.Newsletter.M12345678&cvo_campaign=000026UJ).\n"
        }
    ],
    "metadata": {
        "kernelspec": {
            "display_name": "Python 3.7",
            "language": "python",
            "name": "python3"
        },
        "language_info": {
            "codemirror_mode": {
                "name": "ipython",
                "version": 3
            },
            "file_extension": ".py",
            "mimetype": "text/x-python",
            "name": "python",
            "nbconvert_exporter": "python",
            "pygments_lexer": "ipython3",
            "version": "3.7.10"
        }
    },
    "nbformat": 4,
    "nbformat_minor": 4
}