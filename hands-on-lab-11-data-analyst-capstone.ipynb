{
    "cells": [
        {
            "cell_type": "markdown",
            "metadata": {},
            "source": "<center>\n    <img src=\"https://gitlab.com/ibm/skills-network/courses/placeholder101/-/raw/master/labs/module%201/images/IDSNlogo.png\" width=\"300\" alt=\"cognitiveclass.ai logo\"  />\n</center>\n"
        },
        {
            "cell_type": "markdown",
            "metadata": {},
            "source": "# **Exploratory Data Analysis Lab**\n"
        },
        {
            "cell_type": "markdown",
            "metadata": {},
            "source": "Estimated time needed: **30** minutes\n"
        },
        {
            "cell_type": "markdown",
            "metadata": {},
            "source": "In this module you get to work with the cleaned dataset from the previous module.\n\nIn this assignment you will perform the task of exploratory data analysis.\nYou will find out the distribution of data, presence of outliers and also determine the correlation between different columns in the dataset.\n"
        },
        {
            "cell_type": "markdown",
            "metadata": {},
            "source": "## Objectives\n"
        },
        {
            "cell_type": "markdown",
            "metadata": {},
            "source": "In this lab you will perform the following:\n"
        },
        {
            "cell_type": "markdown",
            "metadata": {},
            "source": "-   Identify the distribution of data in the dataset.\n\n-   Identify outliers in the dataset.\n\n-   Remove outliers from the dataset.\n\n-   Identify correlation between features in the dataset.\n"
        },
        {
            "cell_type": "markdown",
            "metadata": {},
            "source": "* * *\n"
        },
        {
            "cell_type": "markdown",
            "metadata": {},
            "source": "## Hands on Lab\n"
        },
        {
            "cell_type": "markdown",
            "metadata": {},
            "source": "Import the pandas module.\n"
        },
        {
            "cell_type": "code",
            "execution_count": 1,
            "metadata": {},
            "outputs": [],
            "source": "import pandas as pd"
        },
        {
            "cell_type": "markdown",
            "metadata": {},
            "source": "Load the dataset into a dataframe.\n"
        },
        {
            "cell_type": "code",
            "execution_count": 2,
            "metadata": {},
            "outputs": [],
            "source": "df = pd.read_csv(\"https://cf-courses-data.s3.us.cloud-object-storage.appdomain.cloud/IBM-DA0321EN-SkillsNetwork/LargeData/m2_survey_data.csv\")"
        },
        {
            "cell_type": "markdown",
            "metadata": {},
            "source": "Displaying the data. -FH"
        },
        {
            "cell_type": "code",
            "execution_count": 3,
            "metadata": {},
            "outputs": [
                {
                    "data": {
                        "text/html": "<div>\n<style scoped>\n    .dataframe tbody tr th:only-of-type {\n        vertical-align: middle;\n    }\n\n    .dataframe tbody tr th {\n        vertical-align: top;\n    }\n\n    .dataframe thead th {\n        text-align: right;\n    }\n</style>\n<table border=\"1\" class=\"dataframe\">\n  <thead>\n    <tr style=\"text-align: right;\">\n      <th></th>\n      <th>Respondent</th>\n      <th>MainBranch</th>\n      <th>Hobbyist</th>\n      <th>OpenSourcer</th>\n      <th>OpenSource</th>\n      <th>Employment</th>\n      <th>Country</th>\n      <th>Student</th>\n      <th>EdLevel</th>\n      <th>UndergradMajor</th>\n      <th>...</th>\n      <th>WelcomeChange</th>\n      <th>SONewContent</th>\n      <th>Age</th>\n      <th>Gender</th>\n      <th>Trans</th>\n      <th>Sexuality</th>\n      <th>Ethnicity</th>\n      <th>Dependents</th>\n      <th>SurveyLength</th>\n      <th>SurveyEase</th>\n    </tr>\n  </thead>\n  <tbody>\n    <tr>\n      <th>0</th>\n      <td>4</td>\n      <td>I am a developer by profession</td>\n      <td>No</td>\n      <td>Never</td>\n      <td>The quality of OSS and closed source software ...</td>\n      <td>Employed full-time</td>\n      <td>United States</td>\n      <td>No</td>\n      <td>Bachelor\u2019s degree (BA, BS, B.Eng., etc.)</td>\n      <td>Computer science, computer engineering, or sof...</td>\n      <td>...</td>\n      <td>Just as welcome now as I felt last year</td>\n      <td>Tech articles written by other developers;Indu...</td>\n      <td>22.0</td>\n      <td>Man</td>\n      <td>No</td>\n      <td>Straight / Heterosexual</td>\n      <td>White or of European descent</td>\n      <td>No</td>\n      <td>Appropriate in length</td>\n      <td>Easy</td>\n    </tr>\n    <tr>\n      <th>1</th>\n      <td>9</td>\n      <td>I am a developer by profession</td>\n      <td>Yes</td>\n      <td>Once a month or more often</td>\n      <td>The quality of OSS and closed source software ...</td>\n      <td>Employed full-time</td>\n      <td>New Zealand</td>\n      <td>No</td>\n      <td>Some college/university study without earning ...</td>\n      <td>Computer science, computer engineering, or sof...</td>\n      <td>...</td>\n      <td>Just as welcome now as I felt last year</td>\n      <td>NaN</td>\n      <td>23.0</td>\n      <td>Man</td>\n      <td>No</td>\n      <td>Bisexual</td>\n      <td>White or of European descent</td>\n      <td>No</td>\n      <td>Appropriate in length</td>\n      <td>Neither easy nor difficult</td>\n    </tr>\n    <tr>\n      <th>2</th>\n      <td>13</td>\n      <td>I am a developer by profession</td>\n      <td>Yes</td>\n      <td>Less than once a month but more than once per ...</td>\n      <td>OSS is, on average, of HIGHER quality than pro...</td>\n      <td>Employed full-time</td>\n      <td>United States</td>\n      <td>No</td>\n      <td>Master\u2019s degree (MA, MS, M.Eng., MBA, etc.)</td>\n      <td>Computer science, computer engineering, or sof...</td>\n      <td>...</td>\n      <td>Somewhat more welcome now than last year</td>\n      <td>Tech articles written by other developers;Cour...</td>\n      <td>28.0</td>\n      <td>Man</td>\n      <td>No</td>\n      <td>Straight / Heterosexual</td>\n      <td>White or of European descent</td>\n      <td>Yes</td>\n      <td>Appropriate in length</td>\n      <td>Easy</td>\n    </tr>\n    <tr>\n      <th>3</th>\n      <td>16</td>\n      <td>I am a developer by profession</td>\n      <td>Yes</td>\n      <td>Never</td>\n      <td>The quality of OSS and closed source software ...</td>\n      <td>Employed full-time</td>\n      <td>United Kingdom</td>\n      <td>No</td>\n      <td>Master\u2019s degree (MA, MS, M.Eng., MBA, etc.)</td>\n      <td>NaN</td>\n      <td>...</td>\n      <td>Just as welcome now as I felt last year</td>\n      <td>Tech articles written by other developers;Indu...</td>\n      <td>26.0</td>\n      <td>Man</td>\n      <td>No</td>\n      <td>Straight / Heterosexual</td>\n      <td>White or of European descent</td>\n      <td>No</td>\n      <td>Appropriate in length</td>\n      <td>Neither easy nor difficult</td>\n    </tr>\n    <tr>\n      <th>4</th>\n      <td>17</td>\n      <td>I am a developer by profession</td>\n      <td>Yes</td>\n      <td>Less than once a month but more than once per ...</td>\n      <td>The quality of OSS and closed source software ...</td>\n      <td>Employed full-time</td>\n      <td>Australia</td>\n      <td>No</td>\n      <td>Bachelor\u2019s degree (BA, BS, B.Eng., etc.)</td>\n      <td>Computer science, computer engineering, or sof...</td>\n      <td>...</td>\n      <td>Just as welcome now as I felt last year</td>\n      <td>Tech articles written by other developers;Indu...</td>\n      <td>29.0</td>\n      <td>Man</td>\n      <td>No</td>\n      <td>Straight / Heterosexual</td>\n      <td>Hispanic or Latino/Latina;Multiracial</td>\n      <td>No</td>\n      <td>Appropriate in length</td>\n      <td>Easy</td>\n    </tr>\n    <tr>\n      <th>...</th>\n      <td>...</td>\n      <td>...</td>\n      <td>...</td>\n      <td>...</td>\n      <td>...</td>\n      <td>...</td>\n      <td>...</td>\n      <td>...</td>\n      <td>...</td>\n      <td>...</td>\n      <td>...</td>\n      <td>...</td>\n      <td>...</td>\n      <td>...</td>\n      <td>...</td>\n      <td>...</td>\n      <td>...</td>\n      <td>...</td>\n      <td>...</td>\n      <td>...</td>\n      <td>...</td>\n    </tr>\n    <tr>\n      <th>11393</th>\n      <td>25136</td>\n      <td>I am a developer by profession</td>\n      <td>Yes</td>\n      <td>Never</td>\n      <td>OSS is, on average, of HIGHER quality than pro...</td>\n      <td>Employed full-time</td>\n      <td>United States</td>\n      <td>No</td>\n      <td>Master\u2019s degree (MA, MS, M.Eng., MBA, etc.)</td>\n      <td>Computer science, computer engineering, or sof...</td>\n      <td>...</td>\n      <td>Just as welcome now as I felt last year</td>\n      <td>Tech articles written by other developers;Cour...</td>\n      <td>36.0</td>\n      <td>Man</td>\n      <td>No</td>\n      <td>Straight / Heterosexual</td>\n      <td>White or of European descent</td>\n      <td>No</td>\n      <td>Appropriate in length</td>\n      <td>Difficult</td>\n    </tr>\n    <tr>\n      <th>11394</th>\n      <td>25137</td>\n      <td>I am a developer by profession</td>\n      <td>Yes</td>\n      <td>Never</td>\n      <td>The quality of OSS and closed source software ...</td>\n      <td>Employed full-time</td>\n      <td>Poland</td>\n      <td>No</td>\n      <td>Master\u2019s degree (MA, MS, M.Eng., MBA, etc.)</td>\n      <td>Computer science, computer engineering, or sof...</td>\n      <td>...</td>\n      <td>A lot more welcome now than last year</td>\n      <td>Tech articles written by other developers;Tech...</td>\n      <td>25.0</td>\n      <td>Man</td>\n      <td>No</td>\n      <td>Straight / Heterosexual</td>\n      <td>White or of European descent</td>\n      <td>No</td>\n      <td>Appropriate in length</td>\n      <td>Neither easy nor difficult</td>\n    </tr>\n    <tr>\n      <th>11395</th>\n      <td>25138</td>\n      <td>I am a developer by profession</td>\n      <td>Yes</td>\n      <td>Less than once per year</td>\n      <td>The quality of OSS and closed source software ...</td>\n      <td>Employed full-time</td>\n      <td>United States</td>\n      <td>No</td>\n      <td>Master\u2019s degree (MA, MS, M.Eng., MBA, etc.)</td>\n      <td>Computer science, computer engineering, or sof...</td>\n      <td>...</td>\n      <td>A lot more welcome now than last year</td>\n      <td>Tech articles written by other developers;Indu...</td>\n      <td>34.0</td>\n      <td>Man</td>\n      <td>No</td>\n      <td>Straight / Heterosexual</td>\n      <td>White or of European descent</td>\n      <td>Yes</td>\n      <td>Too long</td>\n      <td>Easy</td>\n    </tr>\n    <tr>\n      <th>11396</th>\n      <td>25141</td>\n      <td>I am a developer by profession</td>\n      <td>Yes</td>\n      <td>Less than once a month but more than once per ...</td>\n      <td>OSS is, on average, of LOWER quality than prop...</td>\n      <td>Employed full-time</td>\n      <td>Switzerland</td>\n      <td>No</td>\n      <td>Secondary school (e.g. American high school, G...</td>\n      <td>NaN</td>\n      <td>...</td>\n      <td>Somewhat less welcome now than last year</td>\n      <td>NaN</td>\n      <td>25.0</td>\n      <td>Man</td>\n      <td>No</td>\n      <td>Straight / Heterosexual</td>\n      <td>White or of European descent</td>\n      <td>No</td>\n      <td>Appropriate in length</td>\n      <td>Easy</td>\n    </tr>\n    <tr>\n      <th>11397</th>\n      <td>25142</td>\n      <td>I am a developer by profession</td>\n      <td>Yes</td>\n      <td>Less than once a month but more than once per ...</td>\n      <td>OSS is, on average, of HIGHER quality than pro...</td>\n      <td>Employed full-time</td>\n      <td>United Kingdom</td>\n      <td>No</td>\n      <td>Other doctoral degree (Ph.D, Ed.D., etc.)</td>\n      <td>A natural science (ex. biology, chemistry, phy...</td>\n      <td>...</td>\n      <td>Just as welcome now as I felt last year</td>\n      <td>Tech articles written by other developers;Tech...</td>\n      <td>30.0</td>\n      <td>Man</td>\n      <td>No</td>\n      <td>Bisexual</td>\n      <td>White or of European descent</td>\n      <td>No</td>\n      <td>Appropriate in length</td>\n      <td>Easy</td>\n    </tr>\n  </tbody>\n</table>\n<p>11398 rows \u00d7 85 columns</p>\n</div>",
                        "text/plain": "       Respondent                      MainBranch Hobbyist  \\\n0               4  I am a developer by profession       No   \n1               9  I am a developer by profession      Yes   \n2              13  I am a developer by profession      Yes   \n3              16  I am a developer by profession      Yes   \n4              17  I am a developer by profession      Yes   \n...           ...                             ...      ...   \n11393       25136  I am a developer by profession      Yes   \n11394       25137  I am a developer by profession      Yes   \n11395       25138  I am a developer by profession      Yes   \n11396       25141  I am a developer by profession      Yes   \n11397       25142  I am a developer by profession      Yes   \n\n                                             OpenSourcer  \\\n0                                                  Never   \n1                             Once a month or more often   \n2      Less than once a month but more than once per ...   \n3                                                  Never   \n4      Less than once a month but more than once per ...   \n...                                                  ...   \n11393                                              Never   \n11394                                              Never   \n11395                            Less than once per year   \n11396  Less than once a month but more than once per ...   \n11397  Less than once a month but more than once per ...   \n\n                                              OpenSource          Employment  \\\n0      The quality of OSS and closed source software ...  Employed full-time   \n1      The quality of OSS and closed source software ...  Employed full-time   \n2      OSS is, on average, of HIGHER quality than pro...  Employed full-time   \n3      The quality of OSS and closed source software ...  Employed full-time   \n4      The quality of OSS and closed source software ...  Employed full-time   \n...                                                  ...                 ...   \n11393  OSS is, on average, of HIGHER quality than pro...  Employed full-time   \n11394  The quality of OSS and closed source software ...  Employed full-time   \n11395  The quality of OSS and closed source software ...  Employed full-time   \n11396  OSS is, on average, of LOWER quality than prop...  Employed full-time   \n11397  OSS is, on average, of HIGHER quality than pro...  Employed full-time   \n\n              Country Student  \\\n0       United States      No   \n1         New Zealand      No   \n2       United States      No   \n3      United Kingdom      No   \n4           Australia      No   \n...               ...     ...   \n11393   United States      No   \n11394          Poland      No   \n11395   United States      No   \n11396     Switzerland      No   \n11397  United Kingdom      No   \n\n                                                 EdLevel  \\\n0               Bachelor\u2019s degree (BA, BS, B.Eng., etc.)   \n1      Some college/university study without earning ...   \n2            Master\u2019s degree (MA, MS, M.Eng., MBA, etc.)   \n3            Master\u2019s degree (MA, MS, M.Eng., MBA, etc.)   \n4               Bachelor\u2019s degree (BA, BS, B.Eng., etc.)   \n...                                                  ...   \n11393        Master\u2019s degree (MA, MS, M.Eng., MBA, etc.)   \n11394        Master\u2019s degree (MA, MS, M.Eng., MBA, etc.)   \n11395        Master\u2019s degree (MA, MS, M.Eng., MBA, etc.)   \n11396  Secondary school (e.g. American high school, G...   \n11397          Other doctoral degree (Ph.D, Ed.D., etc.)   \n\n                                          UndergradMajor  ...  \\\n0      Computer science, computer engineering, or sof...  ...   \n1      Computer science, computer engineering, or sof...  ...   \n2      Computer science, computer engineering, or sof...  ...   \n3                                                    NaN  ...   \n4      Computer science, computer engineering, or sof...  ...   \n...                                                  ...  ...   \n11393  Computer science, computer engineering, or sof...  ...   \n11394  Computer science, computer engineering, or sof...  ...   \n11395  Computer science, computer engineering, or sof...  ...   \n11396                                                NaN  ...   \n11397  A natural science (ex. biology, chemistry, phy...  ...   \n\n                                  WelcomeChange  \\\n0       Just as welcome now as I felt last year   \n1       Just as welcome now as I felt last year   \n2      Somewhat more welcome now than last year   \n3       Just as welcome now as I felt last year   \n4       Just as welcome now as I felt last year   \n...                                         ...   \n11393   Just as welcome now as I felt last year   \n11394     A lot more welcome now than last year   \n11395     A lot more welcome now than last year   \n11396  Somewhat less welcome now than last year   \n11397   Just as welcome now as I felt last year   \n\n                                            SONewContent   Age Gender Trans  \\\n0      Tech articles written by other developers;Indu...  22.0    Man    No   \n1                                                    NaN  23.0    Man    No   \n2      Tech articles written by other developers;Cour...  28.0    Man    No   \n3      Tech articles written by other developers;Indu...  26.0    Man    No   \n4      Tech articles written by other developers;Indu...  29.0    Man    No   \n...                                                  ...   ...    ...   ...   \n11393  Tech articles written by other developers;Cour...  36.0    Man    No   \n11394  Tech articles written by other developers;Tech...  25.0    Man    No   \n11395  Tech articles written by other developers;Indu...  34.0    Man    No   \n11396                                                NaN  25.0    Man    No   \n11397  Tech articles written by other developers;Tech...  30.0    Man    No   \n\n                     Sexuality                              Ethnicity  \\\n0      Straight / Heterosexual           White or of European descent   \n1                     Bisexual           White or of European descent   \n2      Straight / Heterosexual           White or of European descent   \n3      Straight / Heterosexual           White or of European descent   \n4      Straight / Heterosexual  Hispanic or Latino/Latina;Multiracial   \n...                        ...                                    ...   \n11393  Straight / Heterosexual           White or of European descent   \n11394  Straight / Heterosexual           White or of European descent   \n11395  Straight / Heterosexual           White or of European descent   \n11396  Straight / Heterosexual           White or of European descent   \n11397                 Bisexual           White or of European descent   \n\n      Dependents           SurveyLength                  SurveyEase  \n0             No  Appropriate in length                        Easy  \n1             No  Appropriate in length  Neither easy nor difficult  \n2            Yes  Appropriate in length                        Easy  \n3             No  Appropriate in length  Neither easy nor difficult  \n4             No  Appropriate in length                        Easy  \n...          ...                    ...                         ...  \n11393         No  Appropriate in length                   Difficult  \n11394         No  Appropriate in length  Neither easy nor difficult  \n11395        Yes               Too long                        Easy  \n11396         No  Appropriate in length                        Easy  \n11397         No  Appropriate in length                        Easy  \n\n[11398 rows x 85 columns]"
                    },
                    "execution_count": 3,
                    "metadata": {},
                    "output_type": "execute_result"
                }
            ],
            "source": "df"
        },
        {
            "cell_type": "markdown",
            "metadata": {},
            "source": "## Distribution\n"
        },
        {
            "cell_type": "markdown",
            "metadata": {},
            "source": "### Determine how the data is distributed\n"
        },
        {
            "cell_type": "markdown",
            "metadata": {},
            "source": "The column `ConvertedComp` contains Salary converted to annual USD salaries using the exchange rate on 2019-02-01.\n\nThis assumes 12 working months and 50 working weeks.\n"
        },
        {
            "cell_type": "markdown",
            "metadata": {},
            "source": "Plot the distribution curve for the column `ConvertedComp`.\n"
        },
        {
            "cell_type": "markdown",
            "metadata": {},
            "source": "Importing needed libraries. -FH"
        },
        {
            "cell_type": "code",
            "execution_count": 4,
            "metadata": {},
            "outputs": [
                {
                    "name": "stdout",
                    "output_type": "stream",
                    "text": "Collecting package metadata (current_repodata.json): done\nSolving environment: failed with initial frozen solve. Retrying with flexible solve.\nSolving environment: failed with repodata from current_repodata.json, will retry with next repodata source.\nCollecting package metadata (repodata.json): done\nSolving environment: done\n\n## Package Plan ##\n\n  environment location: /opt/conda/envs/Python-3.7-main\n\n  added / updated specs:\n    - seaborn==0.11.1\n\n\nThe following packages will be downloaded:\n\n    package                    |            build\n    ---------------------------|-----------------\n    ibm-wsrt-py37main-keep-0.0.0|             2155           2 KB\n    ibm-wsrt-py37main-main-custom|             2155           2 KB\n    seaborn-0.11.1             |     pyhd3eb1b0_0         212 KB\n    ------------------------------------------------------------\n                                           Total:         216 KB\n\nThe following NEW packages will be INSTALLED:\n\n  ibm-wsrt-py37main~ opt/ibm/build/channels/wscloud/noarch::ibm-wsrt-py37main-keep-0.0.0-2155\n\nThe following packages will be UPDATED:\n\n  seaborn                                       0.10.1-py_0 --> 0.11.1-pyhd3eb1b0_0\n\nThe following packages will be DOWNGRADED:\n\n  ibm-wsrt-py37main~                             0.0.0-2155 --> custom-2155\n\n\n\nDownloading and Extracting Packages\nseaborn-0.11.1       | 212 KB    | ##################################### | 100% \nibm-wsrt-py37main-ke | 2 KB      | ##################################### | 100% \nibm-wsrt-py37main-ma | 2 KB      | ##################################### | 100% \nPreparing transaction: done\nVerifying transaction: done\nExecuting transaction: done\n"
                }
            ],
            "source": "import matplotlib.pyplot as plt\n!conda install seaborn==0.11.1\nimport seaborn as sns"
        },
        {
            "cell_type": "markdown",
            "metadata": {},
            "source": "Checking to verify the Seaborn library version is correct. -FH"
        },
        {
            "cell_type": "code",
            "execution_count": 5,
            "metadata": {},
            "outputs": [
                {
                    "data": {
                        "text/plain": "'0.11.1'"
                    },
                    "execution_count": 5,
                    "metadata": {},
                    "output_type": "execute_result"
                }
            ],
            "source": "sns.__version__"
        },
        {
            "cell_type": "markdown",
            "metadata": {},
            "source": "Generating a smooth plot of ConvertedComp data column. -FH"
        },
        {
            "cell_type": "code",
            "execution_count": 6,
            "metadata": {},
            "outputs": [
                {
                    "data": {
                        "text/plain": "<seaborn.axisgrid.FacetGrid at 0x7fa4dff004d0>"
                    },
                    "execution_count": 6,
                    "metadata": {},
                    "output_type": "execute_result"
                },
                {
                    "data": {
                        "image/png": "[encoded data removed]",
                        "text/plain": "<Figure size 360x360 with 1 Axes>"
                    },
                    "metadata": {
                        "needs_background": "light"
                    },
                    "output_type": "display_data"
                }
            ],
            "source": "sns.displot(df['ConvertedComp'], kind=\"kde\")"
        },
        {
            "cell_type": "markdown",
            "metadata": {},
            "source": "Plot the histogram for the column `ConvertedComp`.\n"
        },
        {
            "cell_type": "markdown",
            "metadata": {},
            "source": "Next, generating a histogram of the data.  Seaborn library chooses its own bin width. -FH"
        },
        {
            "cell_type": "code",
            "execution_count": 7,
            "metadata": {},
            "outputs": [
                {
                    "data": {
                        "text/plain": "<seaborn.axisgrid.FacetGrid at 0x7fa4e26dc090>"
                    },
                    "execution_count": 7,
                    "metadata": {},
                    "output_type": "execute_result"
                },
                {
                    "data": {
                        "image/png": "[encoded data removed]",
                        "text/plain": "<Figure size 360x360 with 1 Axes>"
                    },
                    "metadata": {
                        "needs_background": "light"
                    },
                    "output_type": "display_data"
                }
            ],
            "source": "sns.displot(df['ConvertedComp'])"
        },
        {
            "cell_type": "markdown",
            "metadata": {},
            "source": "What is the median of the column `ConvertedComp`?\n"
        },
        {
            "cell_type": "code",
            "execution_count": 8,
            "metadata": {},
            "outputs": [
                {
                    "data": {
                        "text/plain": "57745.0"
                    },
                    "execution_count": 8,
                    "metadata": {},
                    "output_type": "execute_result"
                }
            ],
            "source": "df['ConvertedComp'].median()"
        },
        {
            "cell_type": "markdown",
            "metadata": {},
            "source": "The median ConvertedComp is 57,745.  -FH"
        },
        {
            "cell_type": "markdown",
            "metadata": {},
            "source": "How many responders identified themselves only as a **Man**?\n"
        },
        {
            "cell_type": "markdown",
            "metadata": {},
            "source": "Remove the printout length restrictions on displaying the dataframe and also show the column data types. -FH"
        },
        {
            "cell_type": "code",
            "execution_count": 9,
            "metadata": {},
            "outputs": [
                {
                    "data": {
                        "text/plain": "Respondent                  int64\nMainBranch                 object\nHobbyist                   object\nOpenSourcer                object\nOpenSource                 object\nEmployment                 object\nCountry                    object\nStudent                    object\nEdLevel                    object\nUndergradMajor             object\nEduOther                   object\nOrgSize                    object\nDevType                    object\nYearsCode                  object\nAge1stCode                 object\nYearsCodePro               object\nCareerSat                  object\nJobSat                     object\nMgrIdiot                   object\nMgrMoney                   object\nMgrWant                    object\nJobSeek                    object\nLastHireDate               object\nLastInt                    object\nFizzBuzz                   object\nJobFactors                 object\nResumeUpdate               object\nCurrencySymbol             object\nCurrencyDesc               object\nCompTotal                 float64\nCompFreq                   object\nConvertedComp             float64\nWorkWeekHrs               float64\nWorkPlan                   object\nWorkChallenge              object\nWorkRemote                 object\nWorkLoc                    object\nImpSyn                     object\nCodeRev                    object\nCodeRevHrs                float64\nUnitTests                  object\nPurchaseHow                object\nPurchaseWhat               object\nLanguageWorkedWith         object\nLanguageDesireNextYear     object\nDatabaseWorkedWith         object\nDatabaseDesireNextYear     object\nPlatformWorkedWith         object\nPlatformDesireNextYear     object\nWebFrameWorkedWith         object\nWebFrameDesireNextYear     object\nMiscTechWorkedWith         object\nMiscTechDesireNextYear     object\nDevEnviron                 object\nOpSys                      object\nContainers                 object\nBlockchainOrg              object\nBlockchainIs               object\nBetterLife                 object\nITperson                   object\nOffOn                      object\nSocialMedia                object\nExtraversion               object\nScreenName                 object\nSOVisit1st                 object\nSOVisitFreq                object\nSOVisitTo                  object\nSOFindAnswer               object\nSOTimeSaved                object\nSOHowMuchTime              object\nSOAccount                  object\nSOPartFreq                 object\nSOJobs                     object\nEntTeams                   object\nSOComm                     object\nWelcomeChange              object\nSONewContent               object\nAge                       float64\nGender                     object\nTrans                      object\nSexuality                  object\nEthnicity                  object\nDependents                 object\nSurveyLength               object\nSurveyEase                 object\ndtype: object"
                    },
                    "execution_count": 9,
                    "metadata": {},
                    "output_type": "execute_result"
                }
            ],
            "source": "pd.set_option('display.max_rows', None)\ndf.dtypes"
        },
        {
            "cell_type": "markdown",
            "metadata": {},
            "source": "Determine how many people chose each option for 'Gender'.  -FH"
        },
        {
            "cell_type": "code",
            "execution_count": 10,
            "metadata": {},
            "outputs": [
                {
                    "data": {
                        "text/plain": "Man                                                            10480\nWoman                                                            731\nNon-binary, genderqueer, or gender non-conforming                 63\nMan;Non-binary, genderqueer, or gender non-conforming             26\nWoman;Non-binary, genderqueer, or gender non-conforming           14\nWoman;Man                                                          9\nWoman;Man;Non-binary, genderqueer, or gender non-conforming        2\nName: Gender, dtype: int64"
                    },
                    "execution_count": 10,
                    "metadata": {},
                    "output_type": "execute_result"
                }
            ],
            "source": "df['Gender'].value_counts()"
        },
        {
            "cell_type": "markdown",
            "metadata": {},
            "source": "10480 respondents identified only as 'Man' -FH"
        },
        {
            "cell_type": "markdown",
            "metadata": {},
            "source": "Find out the  median ConvertedComp of responders identified themselves only as a **Woman**?\n"
        },
        {
            "cell_type": "markdown",
            "metadata": {},
            "source": "Determine the median ConvertedComp of those answering as 'Woman' to 'Gender' - FH"
        },
        {
            "cell_type": "code",
            "execution_count": 11,
            "metadata": {},
            "outputs": [
                {
                    "data": {
                        "text/plain": "57708.0"
                    },
                    "execution_count": 11,
                    "metadata": {},
                    "output_type": "execute_result"
                }
            ],
            "source": "df.loc[df['Gender'] == 'Woman','ConvertedComp'].median()"
        },
        {
            "cell_type": "markdown",
            "metadata": {},
            "source": "The median ConvertedComp for responders who identified themselves only as 'Woman' was 57708."
        },
        {
            "cell_type": "markdown",
            "metadata": {},
            "source": "Give the five number summary for the column `Age`?\n"
        },
        {
            "cell_type": "markdown",
            "metadata": {},
            "source": "**Double click here for hint**.\n\n<!--\nmin,q1,median,q3,max of a column are its five number summary.\n-->\n"
        },
        {
            "cell_type": "code",
            "execution_count": 12,
            "metadata": {},
            "outputs": [
                {
                    "data": {
                        "text/plain": "0     22.0\n1     23.0\n2     28.0\n3     26.0\n4     29.0\n5     31.0\n6     38.0\n7     47.0\n8     22.0\n9     23.0\n10    22.0\n11    34.0\n12    32.0\n13    21.0\n14    44.0\n15    42.0\n16    27.0\n17    43.0\n18    34.0\n19    23.0\n20    18.0\n21    37.0\n22    33.0\n23    31.0\n24    27.0\n25    34.0\n26    19.0\n27    24.0\n28    29.0\n29    42.0\n30    21.0\n31    24.0\n32    27.0\n33    32.0\n34    25.0\n35    24.0\n36    22.0\n37    26.0\n38    26.0\n39    36.0\n40    25.0\n41    35.0\n42    27.0\n43    30.0\n44    25.0\n45    39.0\n46    37.0\n47    29.0\n48    41.0\n49    26.0\n50    54.0\n51    26.0\n52    21.0\n53    31.0\n54    38.0\n55    26.0\n56    28.0\n57    26.0\n58    27.0\n59    32.0\n60    30.0\n61    34.0\n62    23.0\n63    32.0\n64    24.0\n65    25.0\n66    47.0\n67     NaN\n68    28.0\n69    34.0\n70    34.0\n71    25.0\n72    29.0\n73    35.0\n74    32.0\n75    47.0\n76    30.0\n77    31.0\n78    24.0\n79    31.0\n80    22.0\n81    35.0\n82    29.0\n83    30.0\n84    29.0\n85    28.0\n86    28.0\n87    27.0\n88    27.0\n89    28.0\n90    29.0\n91    40.0\n92    35.0\n93    45.0\n94    34.0\n95    33.0\n96    30.0\n97    30.0\n98    41.0\n99    35.0\nName: Age, dtype: float64"
                    },
                    "execution_count": 12,
                    "metadata": {},
                    "output_type": "execute_result"
                }
            ],
            "source": "# set the max display rows\npd.set_option('display.max_rows', 200)\n\n# check the 'Age' column data\ndf['Age'].head(100)"
        },
        {
            "cell_type": "markdown",
            "metadata": {},
            "source": "We'll need the numpy library to define what we want to replace below. -FH"
        },
        {
            "cell_type": "code",
            "execution_count": 13,
            "metadata": {},
            "outputs": [],
            "source": "import numpy as np"
        },
        {
            "cell_type": "markdown",
            "metadata": {},
            "source": "In the data above, there are entries for 'NaN' which is a problem.  One method to resolve this is to determine the median value and use the median value to replace the missing values. -FH"
        },
        {
            "cell_type": "code",
            "execution_count": 14,
            "metadata": {},
            "outputs": [
                {
                    "data": {
                        "text/plain": "29.0"
                    },
                    "execution_count": 14,
                    "metadata": {},
                    "output_type": "execute_result"
                }
            ],
            "source": "# find the median age\nmedian_age=df['Age'].median()\nmedian_age"
        },
        {
            "cell_type": "code",
            "execution_count": 15,
            "metadata": {},
            "outputs": [],
            "source": "# replace\ndf['Age'].replace({np.NaN:median_age}, inplace=True)"
        },
        {
            "cell_type": "code",
            "execution_count": 16,
            "metadata": {},
            "outputs": [
                {
                    "data": {
                        "text/plain": "0     22.0\n1     23.0\n2     28.0\n3     26.0\n4     29.0\n5     31.0\n6     38.0\n7     47.0\n8     22.0\n9     23.0\n10    22.0\n11    34.0\n12    32.0\n13    21.0\n14    44.0\n15    42.0\n16    27.0\n17    43.0\n18    34.0\n19    23.0\n20    18.0\n21    37.0\n22    33.0\n23    31.0\n24    27.0\n25    34.0\n26    19.0\n27    24.0\n28    29.0\n29    42.0\n30    21.0\n31    24.0\n32    27.0\n33    32.0\n34    25.0\n35    24.0\n36    22.0\n37    26.0\n38    26.0\n39    36.0\n40    25.0\n41    35.0\n42    27.0\n43    30.0\n44    25.0\n45    39.0\n46    37.0\n47    29.0\n48    41.0\n49    26.0\n50    54.0\n51    26.0\n52    21.0\n53    31.0\n54    38.0\n55    26.0\n56    28.0\n57    26.0\n58    27.0\n59    32.0\n60    30.0\n61    34.0\n62    23.0\n63    32.0\n64    24.0\n65    25.0\n66    47.0\n67    29.0\n68    28.0\n69    34.0\n70    34.0\n71    25.0\n72    29.0\n73    35.0\n74    32.0\n75    47.0\n76    30.0\n77    31.0\n78    24.0\n79    31.0\n80    22.0\n81    35.0\n82    29.0\n83    30.0\n84    29.0\n85    28.0\n86    28.0\n87    27.0\n88    27.0\n89    28.0\n90    29.0\n91    40.0\n92    35.0\n93    45.0\n94    34.0\n95    33.0\n96    30.0\n97    30.0\n98    41.0\n99    35.0\nName: Age, dtype: float64"
                    },
                    "execution_count": 16,
                    "metadata": {},
                    "output_type": "execute_result"
                }
            ],
            "source": "# check the 'Age' column data\ndf['Age'].head(100)"
        },
        {
            "cell_type": "markdown",
            "metadata": {},
            "source": "The NaN values have been replaced. -FH"
        },
        {
            "cell_type": "markdown",
            "metadata": {},
            "source": "Next, we want the 'five number summary' of the 'Age' column. -FH"
        },
        {
            "cell_type": "code",
            "execution_count": 17,
            "metadata": {},
            "outputs": [
                {
                    "name": "stdout",
                    "output_type": "stream",
                    "text": "The 5 Number Summary of the column Age:\n\nAge quartiles: \n[26. 29. 34.]\n\nmin: 16.000\nq1: 26.000\nmedian: 29.000\nq3: 34.000\nmax: 99.000\n"
                }
            ],
            "source": "from numpy import percentile\nage_quartiles = percentile(df['Age'], [25, 50, 75])\nage_min, age_max = df['Age'].min(), df['Age'].max()\nprint('The 5 Number Summary of the column Age:')\nprint('')\nprint('Age quartiles: ')\nprint(age_quartiles)\nprint('')\nprint('min: %.3f' % age_min)\nprint('q1: %.3f' % age_quartiles[0])\nprint('median: %.3f' % age_quartiles[1])\nprint('q3: %.3f' % age_quartiles[2])\nprint('max: %.3f' % age_max)"
        },
        {
            "cell_type": "markdown",
            "metadata": {},
            "source": "Plot a histogram of the column `Age`.\n"
        },
        {
            "cell_type": "code",
            "execution_count": 18,
            "metadata": {},
            "outputs": [
                {
                    "data": {
                        "text/plain": "<seaborn.axisgrid.FacetGrid at 0x7fa50c13e750>"
                    },
                    "execution_count": 18,
                    "metadata": {},
                    "output_type": "execute_result"
                },
                {
                    "data": {
                        "image/png": "[encoded data removed]",
                        "text/plain": "<Figure size 360x360 with 1 Axes>"
                    },
                    "metadata": {
                        "needs_background": "light"
                    },
                    "output_type": "display_data"
                }
            ],
            "source": "sns.displot(df['Age'], binwidth=8)"
        },
        {
            "cell_type": "markdown",
            "metadata": {},
            "source": "## Outliers\n"
        },
        {
            "cell_type": "markdown",
            "metadata": {},
            "source": "### Finding outliers\n"
        },
        {
            "cell_type": "markdown",
            "metadata": {},
            "source": "Find out if outliers exist in the column `ConvertedComp` using a box plot?\n"
        },
        {
            "cell_type": "markdown",
            "metadata": {},
            "source": "A box plot of the ConvertedComp data.  -FH"
        },
        {
            "cell_type": "code",
            "execution_count": 19,
            "metadata": {},
            "outputs": [
                {
                    "data": {
                        "image/png": "[encoded data removed]",
                        "text/plain": "<Figure size 432x288 with 1 Axes>"
                    },
                    "metadata": {},
                    "output_type": "display_data"
                }
            ],
            "source": "sns.set_theme(style=\"whitegrid\")\nax = sns.boxplot(x=df[\"ConvertedComp\"])"
        },
        {
            "cell_type": "markdown",
            "metadata": {},
            "source": "The box plot shows a large number of outliers. -FH"
        },
        {
            "cell_type": "markdown",
            "metadata": {},
            "source": "Find out the Inter Quartile Range for the column `ConvertedComp`.\n"
        },
        {
            "cell_type": "markdown",
            "metadata": {},
            "source": "Check for NaN's. -FH"
        },
        {
            "cell_type": "code",
            "execution_count": 20,
            "metadata": {},
            "outputs": [
                {
                    "data": {
                        "text/plain": "0       61000.0\n1       95179.0\n2       90000.0\n3      455352.0\n4       65277.0\n5       31140.0\n6       41244.0\n7      103000.0\n8       69000.0\n9       26388.0\n10       6300.0\n11     114000.0\n12     100000.0\n13    1100000.0\n14      51312.0\n15     156000.0\n16      20623.0\n17      87996.0\n18      60000.0\n19       5597.0\n20      47300.0\n21      68268.0\n22      51150.0\n23      97389.0\n24     107000.0\n25      66000.0\n26      87994.0\n27      36265.0\n28      11194.0\n29      75000.0\n30       4128.0\n31     114575.0\n32      17491.0\n33      39254.0\n34       7696.0\n35          NaN\n36     117540.0\n37       3468.0\n38      16008.0\n39      36060.0\n40      16788.0\n41      57287.0\n42      43180.0\n43     110000.0\n44      66750.0\n45     229016.0\n46    2000000.0\n47       2169.0\n48      46368.0\n49     100000.0\nName: ConvertedComp, dtype: float64"
                    },
                    "execution_count": 20,
                    "metadata": {},
                    "output_type": "execute_result"
                }
            ],
            "source": "# check the 'ConvertedComp' column data\ndf['ConvertedComp'].head(50)"
        },
        {
            "cell_type": "markdown",
            "metadata": {},
            "source": "Here, again we could use the same method as above and replace the NaN's with the median value. However, in the quiz section of this course it expects you to drop the rows instead (but it doesn't tell you this is what you are supposed to do, its just trial and error.)  Therefore, we instead drop the rows that NaN instead of replacing the NaN values with the median value. -FH"
        },
        {
            "cell_type": "code",
            "execution_count": 21,
            "metadata": {},
            "outputs": [
                {
                    "data": {
                        "text/plain": "57745.0"
                    },
                    "execution_count": 21,
                    "metadata": {},
                    "output_type": "execute_result"
                }
            ],
            "source": "# we can see there is at least one 'NaN' value\n# find the median ConvertedComp\nmedian_cc=df['ConvertedComp'].median()\nmedian_cc"
        },
        {
            "cell_type": "markdown",
            "metadata": {},
            "source": "The rows with the NaN values must be DROPPED instead of replacing the median value, as is done above.  Here we drop those rows and display the column again. -FH"
        },
        {
            "cell_type": "code",
            "execution_count": 22,
            "metadata": {},
            "outputs": [
                {
                    "data": {
                        "text/plain": "0       61000.0\n1       95179.0\n2       90000.0\n3      455352.0\n4       65277.0\n5       31140.0\n6       41244.0\n7      103000.0\n8       69000.0\n9       26388.0\n10       6300.0\n11     114000.0\n12     100000.0\n13    1100000.0\n14      51312.0\n15     156000.0\n16      20623.0\n17      87996.0\n18      60000.0\n19       5597.0\n20      47300.0\n21      68268.0\n22      51150.0\n23      97389.0\n24     107000.0\n25      66000.0\n26      87994.0\n27      36265.0\n28      11194.0\n29      75000.0\n30       4128.0\n31     114575.0\n32      17491.0\n33      39254.0\n34       7696.0\n36     117540.0\n37       3468.0\n38      16008.0\n39      36060.0\n40      16788.0\n41      57287.0\n42      43180.0\n43     110000.0\n44      66750.0\n45     229016.0\n46    2000000.0\n47       2169.0\n48      46368.0\n49     100000.0\n51      53437.0\nName: ConvertedComp, dtype: float64"
                    },
                    "execution_count": 22,
                    "metadata": {},
                    "output_type": "execute_result"
                }
            ],
            "source": "df = df[df['ConvertedComp'].notna()]\ndf['ConvertedComp'].head(50)"
        },
        {
            "cell_type": "markdown",
            "metadata": {},
            "source": "Next, we need the interquartile range, IQR, to perform the calculations below.  -FH"
        },
        {
            "cell_type": "code",
            "execution_count": 23,
            "metadata": {},
            "outputs": [
                {
                    "name": "stdout",
                    "output_type": "stream",
                    "text": "[ 26868.  57745. 100000.]\nmin: 0.000\nq1: 26868.000\nmedian: 57745.000\nq3: 100000.000\nmax: 2000000.000\ninterquartile range: 73132.000\n"
                }
            ],
            "source": "# The interquartile range is the difference between the 75th percentile and the 25th percentile.\ncc_quartiles = percentile(df['ConvertedComp'], [25, 50, 75])\ncc_min, cc_max = df['ConvertedComp'].min(), df['ConvertedComp'].max()\nprint(cc_quartiles)\nprint('min: %.3f' % cc_min)\nprint('q1: %.3f' % cc_quartiles[0])\nprint('median: %.3f' % cc_quartiles[1])\nprint('q3: %.3f' % cc_quartiles[2])\nprint('max: %.3f' % cc_max)\n\nIQR = cc_quartiles[2] - cc_quartiles[0]\n\nprint('interquartile range: %.3f' % IQR )"
        },
        {
            "cell_type": "markdown",
            "metadata": {},
            "source": "Find out the upper and lower bounds.  These are the limits beyond which we will consider everything else to be an outlier.  The upper bound is defined as 1.5 times the IQR added to the 75th percentile and the lower bound is defined as 1.5 times the IQR subtracted from the lower bound.  -FH \n"
        },
        {
            "cell_type": "code",
            "execution_count": 24,
            "metadata": {},
            "outputs": [
                {
                    "name": "stdout",
                    "output_type": "stream",
                    "text": "upper bound: 209698.000\nlower bound: -82830.000\n"
                }
            ],
            "source": "upper_bound = cc_quartiles[2] + (IQR * 1.5)\nlower_bound = cc_quartiles[0] - (IQR * 1.5)\n\nprint('upper bound: %.3f' % upper_bound)\nprint('lower bound: %.3f' % lower_bound)"
        },
        {
            "cell_type": "markdown",
            "metadata": {},
            "source": "Identify how many outliers are there in the `ConvertedComp` column based on the definition of outlier mentioned above.  Note that since the lower bound is -82830, we know that there are no salaries beyond this limit, so we just eliminate outlier values on the positive side of the data distribution.  -FH\n"
        },
        {
            "cell_type": "markdown",
            "metadata": {},
            "source": "Determine how many outliers exist greater than the upper bound. -FH"
        },
        {
            "cell_type": "code",
            "execution_count": 25,
            "metadata": {},
            "outputs": [
                {
                    "data": {
                        "text/plain": "879"
                    },
                    "execution_count": 25,
                    "metadata": {},
                    "output_type": "execute_result"
                }
            ],
            "source": "df.loc[(df['ConvertedComp']>upper_bound),'ConvertedComp'].count()"
        },
        {
            "cell_type": "markdown",
            "metadata": {},
            "source": "Create a new dataframe by removing the outliers from the `ConvertedComp` column.\n"
        },
        {
            "cell_type": "code",
            "execution_count": 26,
            "metadata": {},
            "outputs": [
                {
                    "data": {
                        "text/plain": "57745.0"
                    },
                    "execution_count": 26,
                    "metadata": {},
                    "output_type": "execute_result"
                }
            ],
            "source": "# median of ConvertedComp before removing outliers\nmedian_cc"
        },
        {
            "cell_type": "markdown",
            "metadata": {},
            "source": "Drop the 879 outliers greater than the upper bound. -FH"
        },
        {
            "cell_type": "code",
            "execution_count": 27,
            "metadata": {},
            "outputs": [],
            "source": "df= df[df['ConvertedComp'] <= upper_bound]"
        },
        {
            "cell_type": "markdown",
            "metadata": {},
            "source": "Verify the outliers are gone. -FH"
        },
        {
            "cell_type": "code",
            "execution_count": 28,
            "metadata": {},
            "outputs": [
                {
                    "data": {
                        "text/plain": "0"
                    },
                    "execution_count": 28,
                    "metadata": {},
                    "output_type": "execute_result"
                }
            ],
            "source": "df.loc[(df['ConvertedComp']>upper_bound),'ConvertedComp'].count()"
        },
        {
            "cell_type": "markdown",
            "metadata": {},
            "source": "Determine the median value after dropping the outliers. -FH"
        },
        {
            "cell_type": "code",
            "execution_count": 29,
            "metadata": {},
            "outputs": [
                {
                    "data": {
                        "text/plain": "52704.0"
                    },
                    "execution_count": 29,
                    "metadata": {},
                    "output_type": "execute_result"
                }
            ],
            "source": "median_cc_after=df['ConvertedComp'].median()\nmedian_cc_after"
        },
        {
            "cell_type": "markdown",
            "metadata": {},
            "source": "Determine the mean after dropping the outliers. -FH"
        },
        {
            "cell_type": "code",
            "execution_count": 30,
            "metadata": {},
            "outputs": [
                {
                    "data": {
                        "text/plain": "59883.20838915799"
                    },
                    "execution_count": 30,
                    "metadata": {},
                    "output_type": "execute_result"
                }
            ],
            "source": "mean_cc_after=df['ConvertedComp'].mean()\nmean_cc_after"
        },
        {
            "cell_type": "markdown",
            "metadata": {},
            "source": "## Correlation\n"
        },
        {
            "cell_type": "markdown",
            "metadata": {},
            "source": "### Finding correlation\n"
        },
        {
            "cell_type": "markdown",
            "metadata": {},
            "source": "Find the correlation between `Age` and all other numerical columns.\n"
        },
        {
            "cell_type": "markdown",
            "metadata": {},
            "source": "Look again at the data types of data columns. -FH"
        },
        {
            "cell_type": "code",
            "execution_count": 31,
            "metadata": {},
            "outputs": [
                {
                    "data": {
                        "text/plain": "Respondent                  int64\nMainBranch                 object\nHobbyist                   object\nOpenSourcer                object\nOpenSource                 object\nEmployment                 object\nCountry                    object\nStudent                    object\nEdLevel                    object\nUndergradMajor             object\nEduOther                   object\nOrgSize                    object\nDevType                    object\nYearsCode                  object\nAge1stCode                 object\nYearsCodePro               object\nCareerSat                  object\nJobSat                     object\nMgrIdiot                   object\nMgrMoney                   object\nMgrWant                    object\nJobSeek                    object\nLastHireDate               object\nLastInt                    object\nFizzBuzz                   object\nJobFactors                 object\nResumeUpdate               object\nCurrencySymbol             object\nCurrencyDesc               object\nCompTotal                 float64\nCompFreq                   object\nConvertedComp             float64\nWorkWeekHrs               float64\nWorkPlan                   object\nWorkChallenge              object\nWorkRemote                 object\nWorkLoc                    object\nImpSyn                     object\nCodeRev                    object\nCodeRevHrs                float64\nUnitTests                  object\nPurchaseHow                object\nPurchaseWhat               object\nLanguageWorkedWith         object\nLanguageDesireNextYear     object\nDatabaseWorkedWith         object\nDatabaseDesireNextYear     object\nPlatformWorkedWith         object\nPlatformDesireNextYear     object\nWebFrameWorkedWith         object\nWebFrameDesireNextYear     object\nMiscTechWorkedWith         object\nMiscTechDesireNextYear     object\nDevEnviron                 object\nOpSys                      object\nContainers                 object\nBlockchainOrg              object\nBlockchainIs               object\nBetterLife                 object\nITperson                   object\nOffOn                      object\nSocialMedia                object\nExtraversion               object\nScreenName                 object\nSOVisit1st                 object\nSOVisitFreq                object\nSOVisitTo                  object\nSOFindAnswer               object\nSOTimeSaved                object\nSOHowMuchTime              object\nSOAccount                  object\nSOPartFreq                 object\nSOJobs                     object\nEntTeams                   object\nSOComm                     object\nWelcomeChange              object\nSONewContent               object\nAge                       float64\nGender                     object\nTrans                      object\nSexuality                  object\nEthnicity                  object\nDependents                 object\nSurveyLength               object\nSurveyEase                 object\ndtype: object"
                    },
                    "execution_count": 31,
                    "metadata": {},
                    "output_type": "execute_result"
                }
            ],
            "source": "df.dtypes"
        },
        {
            "cell_type": "markdown",
            "metadata": {},
            "source": "We can observe that there are 6 numerical columns. -FH"
        },
        {
            "cell_type": "markdown",
            "metadata": {},
            "source": "Find the Pearson's correlation between the Age column and the other numerical columns in the dataframe, and display that information:"
        },
        {
            "cell_type": "code",
            "execution_count": 32,
            "metadata": {},
            "outputs": [
                {
                    "data": {
                        "text/html": "<div>\n<style scoped>\n    .dataframe tbody tr th:only-of-type {\n        vertical-align: middle;\n    }\n\n    .dataframe tbody tr th {\n        vertical-align: top;\n    }\n\n    .dataframe thead th {\n        text-align: right;\n    }\n</style>\n<table border=\"1\" class=\"dataframe\">\n  <thead>\n    <tr style=\"text-align: right;\">\n      <th></th>\n      <th>Respondent</th>\n      <th>CompTotal</th>\n      <th>ConvertedComp</th>\n      <th>WorkWeekHrs</th>\n      <th>CodeRevHrs</th>\n    </tr>\n  </thead>\n  <tbody>\n    <tr>\n      <th>Age</th>\n      <td>0.002733</td>\n      <td>0.006583</td>\n      <td>0.395919</td>\n      <td>0.032256</td>\n      <td>-0.013631</td>\n    </tr>\n  </tbody>\n</table>\n</div>",
                        "text/plain": "     Respondent  CompTotal  ConvertedComp  WorkWeekHrs  CodeRevHrs\nAge    0.002733   0.006583       0.395919     0.032256   -0.013631"
                    },
                    "execution_count": 32,
                    "metadata": {},
                    "output_type": "execute_result"
                }
            ],
            "source": "df_corr = df.corr(method='pearson', min_periods=1)\ndf_corr= df_corr.drop(['Respondent','CompTotal','ConvertedComp','WorkWeekHrs','CodeRevHrs'],axis=0);\ndf_corr.drop(['Age'],axis=1)"
        },
        {
            "cell_type": "markdown",
            "metadata": {},
            "source": "## Authors\n"
        },
        {
            "cell_type": "markdown",
            "metadata": {},
            "source": "Ramesh Sannareddy\n"
        },
        {
            "cell_type": "markdown",
            "metadata": {},
            "source": "### Other Contributors\n"
        },
        {
            "cell_type": "markdown",
            "metadata": {},
            "source": "Rav Ahuja\n"
        },
        {
            "cell_type": "markdown",
            "metadata": {},
            "source": "## Change Log\n"
        },
        {
            "cell_type": "markdown",
            "metadata": {},
            "source": "| Date (YYYY-MM-DD) | Version | Changed By        | Change Description                 |\n| ----------------- | ------- | ----------------- | ---------------------------------- |\n| 2020-10-17        | 0.1     | Ramesh Sannareddy | Created initial version of the lab |\n"
        },
        {
            "cell_type": "markdown",
            "metadata": {},
            "source": " Copyright \u00a9 2020 IBM Corporation. This notebook and its source code are released under the terms of the [MIT License](https://cognitiveclass.ai/mit-license?cm_mmc=Email_Newsletter-_-Developer_Ed%2BTech-_-WW_WW-_-SkillsNetwork-Courses-IBM-DA0321EN-SkillsNetwork-21426264&cm_mmca1=000026UJ&cm_mmca2=10006555&cm_mmca3=M12345678&cvosrc=email.Newsletter.M12345678&cvo_campaign=000026UJ&cm_mmc=Email_Newsletter-_-Developer_Ed%2BTech-_-WW_WW-_-SkillsNetwork-Courses-IBM-DA0321EN-SkillsNetwork-21426264&cm_mmca1=000026UJ&cm_mmca2=10006555&cm_mmca3=M12345678&cvosrc=email.Newsletter.M12345678&cvo_campaign=000026UJ&cm_mmc=Email_Newsletter-_-Developer_Ed%2BTech-_-WW_WW-_-SkillsNetwork-Courses-IBM-DA0321EN-SkillsNetwork-21426264&cm_mmca1=000026UJ&cm_mmca2=10006555&cm_mmca3=M12345678&cvosrc=email.Newsletter.M12345678&cvo_campaign=000026UJ&cm_mmc=Email_Newsletter-_-Developer_Ed%2BTech-_-WW_WW-_-SkillsNetwork-Courses-IBM-DA0321EN-SkillsNetwork-21426264&cm_mmca1=000026UJ&cm_mmca2=10006555&cm_mmca3=M12345678&cvosrc=email.Newsletter.M12345678&cvo_campaign=000026UJ&cm_mmc=Email_Newsletter-_-Developer_Ed%2BTech-_-WW_WW-_-SkillsNetwork-Courses-IBM-DA0321EN-SkillsNetwork-21426264&cm_mmca1=000026UJ&cm_mmca2=10006555&cm_mmca3=M12345678&cvosrc=email.Newsletter.M12345678&cvo_campaign=000026UJ&cm_mmc=Email_Newsletter-_-Developer_Ed%2BTech-_-WW_WW-_-SkillsNetwork-Courses-IBM-DA0321EN-SkillsNetwork-21426264&cm_mmca1=000026UJ&cm_mmca2=10006555&cm_mmca3=M12345678&cvosrc=email.Newsletter.M12345678&cvo_campaign=000026UJ).\n"
        }
    ],
    "metadata": {
        "kernelspec": {
            "display_name": "Python 3.7",
            "language": "python",
            "name": "python3"
        },
        "language_info": {
            "codemirror_mode": {
                "name": "ipython",
                "version": 3
            },
            "file_extension": ".py",
            "mimetype": "text/x-python",
            "name": "python",
            "nbconvert_exporter": "python",
            "pygments_lexer": "ipython3",
            "version": "3.7.10"
        }
    },
    "nbformat": 4,
    "nbformat_minor": 4
}