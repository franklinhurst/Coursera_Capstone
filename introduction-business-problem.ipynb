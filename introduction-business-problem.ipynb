{
    "cells": [
        {
            "cell_type": "markdown",
            "metadata": {},
            "source": "## Introduction/Business Problem: Where to open a Mexican restaurant in the Dallas area?"
        },
        {
            "cell_type": "markdown",
            "metadata": {},
            "source": "### The problem:\n**As one might imagine, there are tons of Mexican restaurants in and around Dallas.  Successful restauranteurs can have independence, be self-employeed, and become wealthy.  On the other hand, unsuccessful restaurants close every year.  The very large problems of deciding whether to open a restaurant and deciding which type of restaurant to open are beyond the scope of this report.  However, assuming that one has decided to open a Mexican restaurant in Dallas, there are number of decisions to make, including restaurant concept, menu choices, and location, among others.  This report focuses on the decision of where to locate a new Mexican restaurant in or around Dallas.**\n\n### The target audience:\n\n**The target audience for this report are individuals who have decided to open a Mexican restuarant and now want to decide where to do so.**\n\n---"
        },
        {
            "cell_type": "code",
            "execution_count": null,
            "metadata": {},
            "outputs": [],
            "source": ""
        }
    ],
    "metadata": {
        "kernelspec": {
            "display_name": "Python 3.7",
            "language": "python",
            "name": "python3"
        },
        "language_info": {
            "codemirror_mode": {
                "name": "ipython",
                "version": 3
            },
            "file_extension": ".py",
            "mimetype": "text/x-python",
            "name": "python",
            "nbconvert_exporter": "python",
            "pygments_lexer": "ipython3",
            "version": "3.7.9"
        }
    },
    "nbformat": 4,
    "nbformat_minor": 4
}